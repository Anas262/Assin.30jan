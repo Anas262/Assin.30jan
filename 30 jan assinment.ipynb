{
 "cells": [
  {
   "cell_type": "code",
   "execution_count": 12,
   "id": "5ccd192e-b79f-445c-98e2-a9e40e045bb2",
   "metadata": {},
   "outputs": [
    {
     "name": "stdin",
     "output_type": "stream",
     "text": [
      "Enter the number 45\n"
     ]
    },
    {
     "name": "stdout",
     "output_type": "stream",
     "text": [
      "Grade is : D\n"
     ]
    }
   ],
   "source": [
    "# Qus:1 Write a program to accept from the user display the grade according to the following criteria:\n",
    "#  Marks        Grade\n",
    "# >90            A\n",
    "# >80 and<=90    B\n",
    "# >=60 and<=80   C\n",
    "# below 60       D\n",
    "#Ans : 1\n",
    "Number =int(input(\"Enter the number\"))\n",
    "if Number >90:\n",
    "    print(\"Grade is : A\")\n",
    "elif Number >80 and Number<=90:\n",
    "    print(\"Grade is : B\")\n",
    "elif Number >=60 and Number <=80:\n",
    "    print(\"Grade is : C\")\n",
    "elif Number<60:\n",
    "    print(\"Grade is : D\")\n",
    "    \n",
    "                   \n",
    "                   \n",
    "                   \n"
   ]
  },
  {
   "cell_type": "code",
   "execution_count": 11,
   "id": "d6b54905-9814-4efc-a1a2-7d1cb00edbde",
   "metadata": {},
   "outputs": [
    {
     "name": "stdin",
     "output_type": "stream",
     "text": [
      "Enter the  cost price of the Bike  1000000\n"
     ]
    },
    {
     "name": "stdout",
     "output_type": "stream",
     "text": [
      "Road_Tax =  150000.0\n"
     ]
    },
    {
     "name": "stdin",
     "output_type": "stream",
     "text": [
      "Enter the  cost price of the Bike  400000\n"
     ]
    },
    {
     "name": "stdout",
     "output_type": "stream",
     "text": [
      "Tax to be paid = 60000.0\n"
     ]
    }
   ],
   "source": [
    "# Qus:2 Write a program to accept the cost price of a bike and display the road tax to be paid according to \n",
    "# the following criteria.\n",
    "# Tax                 Cost Price\n",
    "# 15%                 >100000\n",
    "# 10%                 >50000 and <=100000\n",
    "# 5%                  <=50000\n",
    "\n",
    "\n",
    "#Ans: 2\n",
    "\n",
    "# Price =int(input(\"Enter the  cost price of the Bike \"))\n",
    "# if Price >100000:\n",
    "#     a = Price*15/100\n",
    "#     print(\"Road_Tax = \",a)\n",
    "# elif Price >50000 and Price <=100000:\n",
    "#     b=Price*10/100\n",
    "#     print(\"Road_Tax = \",b)\n",
    "# elif Price <=50000:\n",
    "#     c = Price*5/100\n",
    "#     print(\"Road_Tax = \",c)\n",
    "\n",
    "#    or \n",
    "\n",
    "\n",
    "Price =int(input(\"Enter the  cost price of the Bike \"))\n",
    "if Price >100000:\n",
    "    a = Price*15/100\n",
    "elif Price >50000 and Price <=100000:\n",
    "    a=Price*10/100\n",
    "elif Price <=50000:\n",
    "    a= Price*5/100\n",
    "print(\"Tax to be paid =\",a)\n",
    "\n"
   ]
  },
  {
   "cell_type": "code",
   "execution_count": 18,
   "id": "54cafbb4-ade0-49cf-bac6-09eba5f568a3",
   "metadata": {},
   "outputs": [
    {
     "name": "stdin",
     "output_type": "stream",
     "text": [
      "Enter the name of city :  agra\n"
     ]
    },
    {
     "name": "stdout",
     "output_type": "stream",
     "text": [
      " Monument name is : Taj Mahal\n"
     ]
    }
   ],
   "source": [
    "# Qus :3 Accept any city from the user and display monuments of that city\n",
    "#  CITY                 MONUMENTS\n",
    "# Delhi                Red fort\n",
    "# Agra                 Taj mahal\n",
    "# Jaipur                Jal mahal\n",
    "#Ans: 3\n",
    "City=input(\"Enter the name of city : \")\n",
    "if City.upper() == \"DELHI\" :\n",
    "    print(\"Monument name is : Red Fort\")\n",
    "elif City.upper() == \"AGRA\" :\n",
    "    print(\" Monument name is : Taj Mahal\")\n",
    "elif City.upper() == \"JAIPUR\" :\n",
    "    print(\" Monument is : Jal Mahal\")\n",
    "else:\n",
    "    print(\"Invalid City name\")\n",
    "    "
   ]
  },
  {
   "cell_type": "code",
   "execution_count": 1,
   "id": "1464476b-8723-48ff-bf73-9c4fa2ce1567",
   "metadata": {},
   "outputs": [
    {
     "name": "stdout",
     "output_type": "stream",
     "text": [
      "3\n",
      "6\n",
      "9\n"
     ]
    }
   ],
   "source": [
    "# Qus : 4   check how many time a given number can be divided by 3 before it less than 0r equal to 10.\n",
    "# Ans : \n",
    "\n",
    "for i in range(1,10):\n",
    "    if i%3==0:\n",
    "        print(i)\n"
   ]
  },
  {
   "cell_type": "code",
   "execution_count": null,
   "id": "0cd7ac2b-0a1c-4bc2-a62a-1dce982a2dfa",
   "metadata": {},
   "outputs": [],
   "source": [
    "# Qus : 5 why and when to use while loop in python give a detailed description with example ?\n",
    "# Ans :5 The Python while loop iteration of a code block is executed as long as the given condition, \n",
    "# i.e., conditional_expression, is true.\n",
    "# syntax:-\n",
    "# while conditional_expression:  \n",
    "#   Code block of while  \n",
    "# The given condition, i.e., conditional_expression, is evaluated initially in the Python while loop. Then, \n",
    "# if the conditional expression gives a boolean value True, the while loop statements are executed. \n",
    "# The conditional expression is verified again when the complete code block is executed.\n",
    "# This procedure repeatedly occurs until the conditional expression returns the boolean value False.\n",
    "\n",
    "# 1.The statements of the Python while loop are dictated by indentation.\n",
    "# 2.The code block begins when a statement is indented & ends with the very first unindented statement.\n",
    "# 3.Any non-zero number in Python is interpreted as boolean True. False is interpreted as None and 0."
   ]
  },
  {
   "cell_type": "code",
   "execution_count": 4,
   "id": "04cde479-127b-4c91-b7a7-2d5277bb7334",
   "metadata": {},
   "outputs": [],
   "source": [
    "#Qus :6  Use nested while loop to print 3 different patterns. \n",
    "i=1\n",
    "while i>=5 :\n",
    "    while j>=i:\n",
    "        print(j)\n",
    "        j=j+1\n",
    "    print(i)\n",
    "    i=i+1"
   ]
  },
  {
   "cell_type": "code",
   "execution_count": 7,
   "id": "82d270e6-9d15-449f-8aa9-6962e5c54a0c",
   "metadata": {},
   "outputs": [
    {
     "name": "stdout",
     "output_type": "stream",
     "text": [
      "*  \n",
      "* *  \n",
      "* * *  \n",
      "* * * *  \n",
      "* * * * *  \n"
     ]
    }
   ],
   "source": [
    "#Qus :6  Use nested while loop to print 3 different patterns. \n",
    "# 1st Pattern\n",
    "n=5\n",
    "i=1\n",
    "while i<=n :\n",
    "    j=1\n",
    "    while j<=i:\n",
    "        print('*',end=\" \")\n",
    "        j=j+1\n",
    "    print(' ')\n",
    "    i=i+1"
   ]
  },
  {
   "cell_type": "code",
   "execution_count": 11,
   "id": "3ec64b85-547b-45ee-a920-d3d3cb7e696a",
   "metadata": {},
   "outputs": [
    {
     "name": "stdout",
     "output_type": "stream",
     "text": [
      "* * * * *  \n",
      "* * * *  \n",
      "* * *  \n",
      "* *  \n",
      "*  \n"
     ]
    }
   ],
   "source": [
    " \n",
    "# 2nd pattern \n",
    "i=5\n",
    "while i >=1:\n",
    "    j=1\n",
    "    while j<=i:\n",
    "        print('*',end=' ')\n",
    "        j=j+1\n",
    "    \n",
    "    print(' ')\n",
    "    i=i-1"
   ]
  },
  {
   "cell_type": "code",
   "execution_count": 14,
   "id": "27b42ffc-77ef-4ca9-bdf5-ffa98cd04c21",
   "metadata": {},
   "outputs": [
    {
     "name": "stdout",
     "output_type": "stream",
     "text": [
      "* * * * *  \n",
      "* * * * *  \n",
      "* * * * *  \n",
      "* * * * *  \n",
      "* * * * *  \n"
     ]
    }
   ],
   "source": [
    "# 3rd pattern\n",
    "n=5\n",
    "i=1\n",
    "while i <=n :\n",
    "    j=1\n",
    "    while j <= n:\n",
    "        print(\"*\",end=\" \")\n",
    "        j=j+1\n",
    "    print(\" \")\n",
    "    i=i+1"
   ]
  },
  {
   "cell_type": "code",
   "execution_count": 5,
   "id": "61e87ffd-6bc2-4c79-9ea1-654444423985",
   "metadata": {},
   "outputs": [
    {
     "name": "stdout",
     "output_type": "stream",
     "text": [
      "10\n",
      "9\n",
      "8\n",
      "7\n",
      "6\n",
      "5\n",
      "4\n",
      "3\n",
      "2\n",
      "1\n"
     ]
    }
   ],
   "source": [
    "#Qus :6 reverse a while loop to display numbers 10 to 1.\n",
    "i=10\n",
    "while i >= 1 :\n",
    "    print(i)\n",
    "    i=i-1\n",
    "    "
   ]
  },
  {
   "cell_type": "code",
   "execution_count": 4,
   "id": "beea1870-a8e1-42ed-9721-0be546fa7755",
   "metadata": {},
   "outputs": [
    {
     "name": "stdout",
     "output_type": "stream",
     "text": [
      "10 9 8 7 6 5 4 3 2 1 "
     ]
    }
   ],
   "source": [
    "#Qus :7 reverse a while loop to display numbers 10 to 1.\n",
    "i=10\n",
    "while i >= 1 :\n",
    "    print(i,end=\" \")\n",
    "    i=i-1\n"
   ]
  }
 ],
 "metadata": {
  "kernelspec": {
   "display_name": "Python 3 (ipykernel)",
   "language": "python",
   "name": "python3"
  },
  "language_info": {
   "codemirror_mode": {
    "name": "ipython",
    "version": 3
   },
   "file_extension": ".py",
   "mimetype": "text/x-python",
   "name": "python",
   "nbconvert_exporter": "python",
   "pygments_lexer": "ipython3",
   "version": "3.10.6"
  }
 },
 "nbformat": 4,
 "nbformat_minor": 5
}
